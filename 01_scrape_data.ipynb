{
 "cells": [
  {
   "cell_type": "code",
   "execution_count": 5,
   "id": "7f74754b-bca5-4a90-bd76-48adf683ab99",
   "metadata": {},
   "outputs": [],
   "source": [
    "from bs4 import BeautifulSoup\n",
    "import pandas as pd\n",
    "import requests "
   ]
  },
  {
   "cell_type": "code",
   "execution_count": 8,
   "id": "1876d3d0-b975-4d49-995a-9aeadc95af87",
   "metadata": {},
   "outputs": [],
   "source": [
    "# Premier League 2024-2025 Season \n",
    "url = \"https://fbref.com/en/squads/822bd0ba/2024-2025/matchlogs/c9/schedule/Liverpool-Scores-and-Fixtures-Premier-League\"\n",
    "response = requests.get(url)\n",
    "soup = BeautifulSoup(response.text, 'html.parser')"
   ]
  },
  {
   "cell_type": "code",
   "execution_count": 20,
   "id": "b69f3e67-2175-4585-8f17-a84ef130968b",
   "metadata": {},
   "outputs": [],
   "source": [
    "# Matches already played in the PL 24-25 Season\n",
    "match_report_tags = soup.find_all('td', {'data-stat': 'match_report'})\n",
    "match_report_urls = []\n",
    "\n",
    "for i in match_report_tags:\n",
    "    if i.text == 'Match Report':\n",
    "        match_report_urls.append(\"https://fbref.com/\" + i.find('a')['href'])"
   ]
  },
  {
   "cell_type": "code",
   "execution_count": 60,
   "id": "b2fb790f-939e-41bd-831d-1f25b044cbcb",
   "metadata": {},
   "outputs": [],
   "source": [
    "# Shooting stats \n",
    "match_report_url = \"https://fbref.com//en/matches/a1d0d529/Ipswich-Town-Liverpool-August-17-2024-Premier-League\"\n",
    "response = requests.get(match_report_url)\n",
    "soup = BeautifulSoup(response.text, 'html.parser')\n",
    "\n",
    "match_title = soup.find('h1').text\n",
    "shots_table = soup.find('table', {'id': 'shots_all'})\n",
    "\n",
    "match_list = []\n",
    "player_list = []\n",
    "xg_list = []\n",
    "psxg_list = []\n",
    "outcome_list = []\n",
    "distance_list = []\n",
    "body_part_list = []\n",
    "\n",
    "for i in shots_table.find_all('tr'):\n",
    "    player_element = i.find('td', {'data-stat': 'player'})\n",
    "    \n",
    "    if player_element:\n",
    "        if player_element.text == 'Mohamed Salah':\n",
    "            player_list.append(player_element.text)\n",
    "            xg_list.append(i.find('td', {'data-stat':'xg_shot'}).text)\n",
    "            psxg_list.append(i.find('td', {'data-stat':'psxg_shot'}).text)\n",
    "            outcome_list.append(i.find('td', {'data-stat':'outcome'}).text)\n",
    "            distance_list.append(i.find('td', {'data-stat':'distance'}).text)\n",
    "            body_part_list.append(i.find('td', {'data-stat':'body_part'}).text)\n",
    "\n",
    "data = {'player': player_list, 'xG': xg_list, 'PSxG': psxg_list, 'outcome': outcome_list, 'distance': distance_list, 'body_part': body_part_list}\n",
    "\n",
    "df = pd.DataFrame(data)"
   ]
  },
  {
   "cell_type": "code",
   "execution_count": 61,
   "id": "77d16c7b-7a50-46f8-9fdd-50ff84472788",
   "metadata": {},
   "outputs": [
    {
     "data": {
      "text/html": [
       "<div>\n",
       "<style scoped>\n",
       "    .dataframe tbody tr th:only-of-type {\n",
       "        vertical-align: middle;\n",
       "    }\n",
       "\n",
       "    .dataframe tbody tr th {\n",
       "        vertical-align: top;\n",
       "    }\n",
       "\n",
       "    .dataframe thead th {\n",
       "        text-align: right;\n",
       "    }\n",
       "</style>\n",
       "<table border=\"1\" class=\"dataframe\">\n",
       "  <thead>\n",
       "    <tr style=\"text-align: right;\">\n",
       "      <th></th>\n",
       "      <th>player</th>\n",
       "      <th>xG</th>\n",
       "      <th>PSxG</th>\n",
       "      <th>outcome</th>\n",
       "      <th>distance</th>\n",
       "      <th>body_part</th>\n",
       "    </tr>\n",
       "  </thead>\n",
       "  <tbody>\n",
       "    <tr>\n",
       "      <th>0</th>\n",
       "      <td>Mohamed Salah</td>\n",
       "      <td>0.02</td>\n",
       "      <td>0.00</td>\n",
       "      <td>Blocked</td>\n",
       "      <td>16</td>\n",
       "      <td>Left Foot</td>\n",
       "    </tr>\n",
       "    <tr>\n",
       "      <th>1</th>\n",
       "      <td>Mohamed Salah</td>\n",
       "      <td>0.41</td>\n",
       "      <td>0.82</td>\n",
       "      <td>Goal</td>\n",
       "      <td>7</td>\n",
       "      <td>Left Foot</td>\n",
       "    </tr>\n",
       "    <tr>\n",
       "      <th>2</th>\n",
       "      <td>Mohamed Salah</td>\n",
       "      <td>0.21</td>\n",
       "      <td>0.26</td>\n",
       "      <td>Saved</td>\n",
       "      <td>19</td>\n",
       "      <td>Left Foot</td>\n",
       "    </tr>\n",
       "    <tr>\n",
       "      <th>3</th>\n",
       "      <td>Mohamed Salah</td>\n",
       "      <td>0.06</td>\n",
       "      <td>0.05</td>\n",
       "      <td>Saved</td>\n",
       "      <td>11</td>\n",
       "      <td>Left Foot</td>\n",
       "    </tr>\n",
       "  </tbody>\n",
       "</table>\n",
       "</div>"
      ],
      "text/plain": [
       "          player    xG  PSxG  outcome distance  body_part\n",
       "0  Mohamed Salah  0.02  0.00  Blocked       16  Left Foot\n",
       "1  Mohamed Salah  0.41  0.82     Goal        7  Left Foot\n",
       "2  Mohamed Salah  0.21  0.26    Saved       19  Left Foot\n",
       "3  Mohamed Salah  0.06  0.05    Saved       11  Left Foot"
      ]
     },
     "execution_count": 61,
     "metadata": {},
     "output_type": "execute_result"
    }
   ],
   "source": [
    "df"
   ]
  },
  {
   "cell_type": "code",
   "execution_count": null,
   "id": "333ff222-f9a9-4c36-84c4-5d5005a5d431",
   "metadata": {},
   "outputs": [],
   "source": []
  }
 ],
 "metadata": {
  "kernelspec": {
   "display_name": "Python 3 (ipykernel)",
   "language": "python",
   "name": "python3"
  },
  "language_info": {
   "codemirror_mode": {
    "name": "ipython",
    "version": 3
   },
   "file_extension": ".py",
   "mimetype": "text/x-python",
   "name": "python",
   "nbconvert_exporter": "python",
   "pygments_lexer": "ipython3",
   "version": "3.13.1"
  }
 },
 "nbformat": 4,
 "nbformat_minor": 5
}
