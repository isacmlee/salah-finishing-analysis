{
 "cells": [
  {
   "cell_type": "code",
   "execution_count": 31,
   "id": "7f74754b-bca5-4a90-bd76-48adf683ab99",
   "metadata": {},
   "outputs": [],
   "source": [
    "from bs4 import BeautifulSoup\n",
    "import pandas as pd\n",
    "import requests \n",
    "import time"
   ]
  },
  {
   "cell_type": "code",
   "execution_count": 32,
   "id": "1876d3d0-b975-4d49-995a-9aeadc95af87",
   "metadata": {},
   "outputs": [],
   "source": [
    "# Premier League 2024-2025 Season \n",
    "url = \"https://fbref.com/en/squads/822bd0ba/2024-2025/matchlogs/c9/schedule/Liverpool-Scores-and-Fixtures-Premier-League\"\n",
    "response = requests.get(url)\n",
    "soup = BeautifulSoup(response.text, 'html.parser')"
   ]
  },
  {
   "cell_type": "code",
   "execution_count": 33,
   "id": "7c5373ee-1575-4a7a-bd27-2f83eb2cf452",
   "metadata": {},
   "outputs": [
    {
     "data": {
      "text/plain": [
       "<Response [200]>"
      ]
     },
     "execution_count": 33,
     "metadata": {},
     "output_type": "execute_result"
    }
   ],
   "source": [
    "response"
   ]
  },
  {
   "cell_type": "code",
   "execution_count": 34,
   "id": "b69f3e67-2175-4585-8f17-a84ef130968b",
   "metadata": {},
   "outputs": [
    {
     "name": "stdout",
     "output_type": "stream",
     "text": [
      "https://fbref.com//en/matches/a1d0d529/Ipswich-Town-Liverpool-August-17-2024-Premier-League\n",
      "https://fbref.com//en/matches/09b1742e/Liverpool-Brentford-August-25-2024-Premier-League\n",
      "https://fbref.com//en/matches/a7ab7a12/North-West-Derby-Manchester-United-Liverpool-September-1-2024-Premier-League\n",
      "https://fbref.com//en/matches/674bfe9e/Liverpool-Nottingham-Forest-September-14-2024-Premier-League\n",
      "https://fbref.com//en/matches/32a9539b/Liverpool-Bournemouth-September-21-2024-Premier-League\n",
      "https://fbref.com//en/matches/f2633f1d/Wolverhampton-Wanderers-Liverpool-September-28-2024-Premier-League\n",
      "https://fbref.com//en/matches/49ea224b/Crystal-Palace-Liverpool-October-5-2024-Premier-League\n",
      "https://fbref.com//en/matches/99b4737c/Liverpool-Chelsea-October-20-2024-Premier-League\n",
      "https://fbref.com//en/matches/68aa1099/Arsenal-Liverpool-October-27-2024-Premier-League\n",
      "https://fbref.com//en/matches/7d114c70/Liverpool-Brighton-and-Hove-Albion-November-2-2024-Premier-League\n",
      "https://fbref.com//en/matches/737af5bf/Liverpool-Aston-Villa-November-9-2024-Premier-League\n",
      "https://fbref.com//en/matches/eb6f8e39/Southampton-Liverpool-November-24-2024-Premier-League\n",
      "https://fbref.com//en/matches/0bd6ad44/Liverpool-Manchester-City-December-1-2024-Premier-League\n",
      "https://fbref.com//en/matches/ca898c29/Newcastle-United-Liverpool-December-4-2024-Premier-League\n",
      "https://fbref.com//en/matches/a436996c/Liverpool-Fulham-December-14-2024-Premier-League\n",
      "https://fbref.com//en/matches/1e1cea4c/Tottenham-Hotspur-Liverpool-December-22-2024-Premier-League\n",
      "https://fbref.com//en/matches/1f604fbd/Liverpool-Leicester-City-December-26-2024-Premier-League\n",
      "https://fbref.com//en/matches/c1a66ac0/West-Ham-United-Liverpool-December-29-2024-Premier-League\n",
      "https://fbref.com//en/matches/4cef863f/North-West-Derby-Liverpool-Manchester-United-January-5-2025-Premier-League\n",
      "https://fbref.com//en/matches/118f8df8/Nottingham-Forest-Liverpool-January-14-2025-Premier-League\n",
      "https://fbref.com//en/matches/5e8445c1/Brentford-Liverpool-January-18-2025-Premier-League\n",
      "https://fbref.com//en/matches/ee59115f/Liverpool-Ipswich-Town-January-25-2025-Premier-League\n",
      "https://fbref.com//en/matches/886603cd/Bournemouth-Liverpool-February-1-2025-Premier-League\n"
     ]
    }
   ],
   "source": [
    "# Matches already played in the PL 24-25 Season\n",
    "match_report_tags = soup.find_all('td', {'data-stat': 'match_report'})\n",
    "match_report_urls = []\n",
    "\n",
    "for i in match_report_tags:\n",
    "    if i.text == 'Match Report':\n",
    "        match_report_urls.append(\"https://fbref.com/\" + i.find('a')['href'])\n",
    "\n",
    "df_list = []\n",
    "for match_report_url in match_report_urls:\n",
    "    df_list.append(extract_shooting_stats(match_report_url))"
   ]
  },
  {
   "cell_type": "code",
   "execution_count": 35,
   "id": "b4c4292f-bb85-42c9-be29-097e72c5ecbe",
   "metadata": {},
   "outputs": [],
   "source": [
    "pd.concat(df_list).to_csv('data/df.csv',index=False)"
   ]
  },
  {
   "cell_type": "code",
   "execution_count": 30,
   "id": "333ff222-f9a9-4c36-84c4-5d5005a5d431",
   "metadata": {},
   "outputs": [],
   "source": [
    "def extract_shooting_stats(match_report_url):\n",
    "    print(match_report_url)\n",
    "    time.sleep(10)  # Adds a 2-second delay before making a request\n",
    "    \n",
    "    response = requests.get(match_report_url)\n",
    "    soup = BeautifulSoup(response.text, 'html.parser')\n",
    "    \n",
    "    match_title = soup.find('h1').text\n",
    "    shots_table = soup.find('table', {'id': 'shots_all'})\n",
    "    \n",
    "    match_list = []\n",
    "    player_list = []\n",
    "    xg_list = []\n",
    "    psxg_list = []\n",
    "    outcome_list = []\n",
    "    distance_list = []\n",
    "    body_part_list = []\n",
    "    \n",
    "    for i in shots_table.find_all('tr'):\n",
    "        player_element = i.find('td', {'data-stat': 'player'})\n",
    "\n",
    "        if player_element:\n",
    "            if player_element.text == 'Mohamed Salah' or player_element.text == 'Mohamed Salah (pen)':\n",
    "                match_list.append(match_title)\n",
    "                player_list.append(player_element.text)\n",
    "                xg_list.append(i.find('td', {'data-stat':'xg_shot'}).text)\n",
    "                psxg_list.append(i.find('td', {'data-stat':'psxg_shot'}).text)\n",
    "                outcome_list.append(i.find('td', {'data-stat':'outcome'}).text)\n",
    "                distance_list.append(i.find('td', {'data-stat':'distance'}).text)\n",
    "                body_part_list.append(i.find('td', {'data-stat':'body_part'}).text)\n",
    "    \n",
    "    data = {'match': match_list, 'player': player_list, 'xG': xg_list, 'PSxG': psxg_list, 'outcome': outcome_list, 'distance': distance_list, 'body_part': body_part_list}\n",
    "    \n",
    "    df = pd.DataFrame(data)\n",
    "\n",
    "    return df"
   ]
  },
  {
   "cell_type": "code",
   "execution_count": null,
   "id": "92dde333-3831-4a0d-b872-a204be3d430e",
   "metadata": {},
   "outputs": [],
   "source": []
  }
 ],
 "metadata": {
  "kernelspec": {
   "display_name": "Python 3 (ipykernel)",
   "language": "python",
   "name": "python3"
  },
  "language_info": {
   "codemirror_mode": {
    "name": "ipython",
    "version": 3
   },
   "file_extension": ".py",
   "mimetype": "text/x-python",
   "name": "python",
   "nbconvert_exporter": "python",
   "pygments_lexer": "ipython3",
   "version": "3.13.1"
  }
 },
 "nbformat": 4,
 "nbformat_minor": 5
}
